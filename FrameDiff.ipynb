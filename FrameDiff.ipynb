{
 "cells": [
  {
   "cell_type": "code",
   "execution_count": 6,
   "id": "17352d9b-d9f4-4c8a-a2b2-c12ccf8d4877",
   "metadata": {},
   "outputs": [],
   "source": [
    "import os,sys,time\n",
    "import numpy as np\n",
    "import cv2\n",
    "\n",
    "\n",
    "camera = cv2.VideoCapture(0) \n",
    "frameC= None\n",
    "\n",
    "\n",
    "while 1:\n",
    "\n",
    "    (grabbed,frame0) = camera.read()\n",
    "    \n",
    "    if not grabbed:\n",
    "        break\n",
    "\n",
    "    frameGray = cv2.cvtColor(frame0,cv2.COLOR_BGR2GRAY)\n",
    "    frameGaussian = cv2.GaussianBlur(frameGray,(15,15),0)\n",
    "\n",
    "    if frameC is None:\n",
    "        frameC = frameGaussian\n",
    "        continue\n",
    "\n",
    "    frameDiff = cv2.absdiff(frameC,frameGaussian)\n",
    "    frameFinal = cv2.threshold(frameDiff,15,255,cv2.THRESH_BINARY)[1]\n",
    "\n",
    "    frameC = frameGaussian\n",
    "    \n",
    "    b = np.zeros((480, 640), dtype=np.uint8)\n",
    "    g = np.zeros((480, 640), dtype=np.uint8)\n",
    "    r = np.zeros((480, 640), dtype=np.uint8)\n",
    "    res = cv2.merge((frameFinal,g,r))\n",
    "   \n",
    "\n",
    "    cv2.imshow(\"Motion detector\", res)\n",
    "\n",
    "    key = cv2.waitKey(1) & 0xFF\n",
    "    if key == ord('q'):\n",
    "        break\n",
    "\n",
    "camera.release()\n",
    "\n",
    "cv2.destroyAllWindows()\n",
    "\n",
    "   "
   ]
  },
  {
   "cell_type": "code",
   "execution_count": null,
   "id": "aeb7b774-929b-44c3-b212-68947b64dd61",
   "metadata": {},
   "outputs": [],
   "source": []
  }
 ],
 "metadata": {
  "kernelspec": {
   "display_name": "Python 3 (ipykernel)",
   "language": "python",
   "name": "python3"
  },
  "language_info": {
   "codemirror_mode": {
    "name": "ipython",
    "version": 3
   },
   "file_extension": ".py",
   "mimetype": "text/x-python",
   "name": "python",
   "nbconvert_exporter": "python",
   "pygments_lexer": "ipython3",
   "version": "3.10.8"
  }
 },
 "nbformat": 4,
 "nbformat_minor": 5
}
