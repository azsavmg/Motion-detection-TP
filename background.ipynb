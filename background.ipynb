{
 "cells": [
  {
   "cell_type": "code",
   "execution_count": null,
   "id": "35f21555-f807-4d19-8a57-08cfae525894",
   "metadata": {},
   "outputs": [],
   "source": [
    "import cv2\n",
    "import numpy as np\n",
    "cap = cv2.VideoCapture(0)\n",
    "BackgroundSub = cv2.createBackgroundSubtractorMOG2(history=100, varThreshold=50, detectShadows=True)\n",
    "while True:\n",
    "    ret, frame = cap.read()\n",
    "    frame1 = BackgroundSub.apply(frame)\n",
    "    \n",
    "    b = np.zeros((480, 640), dtype=np.uint8)\n",
    "    g = np.zeros((480, 640), dtype=np.uint8)\n",
    "    r = np.zeros((480, 640), dtype=np.uint8)\n",
    "    res = cv2.merge((frame1,g,r))\n",
    "    \n",
    "    cv2.imshow(\"Motion detector\", res)\n",
    "    key = cv2.waitKey(1) & 0xFF\n",
    "    if key == ord('q'):\n",
    "        break\n",
    "\n",
    "cap.release()\n",
    "cv2.destroyAllWindows()"
   ]
  },
  {
   "cell_type": "code",
   "execution_count": null,
   "id": "3326e47f-9989-45ba-b2cd-b1f9d24ac92e",
   "metadata": {},
   "outputs": [],
   "source": []
  },
  {
   "cell_type": "code",
   "execution_count": null,
   "id": "7cf57b01-0007-44d5-8886-258dc848236a",
   "metadata": {},
   "outputs": [],
   "source": []
  },
  {
   "cell_type": "code",
   "execution_count": null,
   "id": "e7ac666f-bfce-40ab-ad51-f442016ae37f",
   "metadata": {},
   "outputs": [],
   "source": []
  },
  {
   "cell_type": "code",
   "execution_count": null,
   "id": "9f25feb5-3636-47af-91a8-ae91c172c826",
   "metadata": {},
   "outputs": [],
   "source": []
  }
 ],
 "metadata": {
  "kernelspec": {
   "display_name": "Python 3 (ipykernel)",
   "language": "python",
   "name": "python3"
  },
  "language_info": {
   "codemirror_mode": {
    "name": "ipython",
    "version": 3
   },
   "file_extension": ".py",
   "mimetype": "text/x-python",
   "name": "python",
   "nbconvert_exporter": "python",
   "pygments_lexer": "ipython3",
   "version": "3.10.8"
  }
 },
 "nbformat": 4,
 "nbformat_minor": 5
}
