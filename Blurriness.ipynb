{
 "cells": [
  {
   "cell_type": "code",
   "execution_count": 2,
   "id": "69564288-2ef0-42f5-96ef-25e29688f21b",
   "metadata": {},
   "outputs": [],
   "source": [
    "import cv2\n",
    "def variance_of_laplacian(image):\n",
    "\t# compute the Laplacian of the image and then return the focus\n",
    "\t# measure, which is simply the variance of the Laplacian\n",
    "\treturn cv2.Laplacian(image, cv2.CV_64F).var()\n",
    "# construct the argument parse and parse the arguments\n",
    "\n",
    "\t# load the image, convert it to grayscale, and compute the\n",
    "\t# focus measure of the image using the Variance of Laplacian\n",
    "\t# method\n",
    "cap = cv2.VideoCapture(r\"C:\\Users\\sebak\\Downloads\\IMG-5970.MOV\")\n",
    "while True:\n",
    "    ret, frame = cap.read()\n",
    "    if ret:\n",
    "    \n",
    "  \n",
    "        gray = cv2.cvtColor(frame, cv2.COLOR_BGR2GRAY)\n",
    "        fm = variance_of_laplacian(gray)\n",
    "        frame = cv2.resize(frame, (400, 480))\n",
    "        text = \"Not blurry\"\n",
    "    # if the focus measure is less than the supplied threshold,\n",
    "    # then the image should be considered \"blurry\"\n",
    "        if fm < 100.0:\n",
    "            text = \"Blurry\"\n",
    "    # show the image\n",
    "    \n",
    "        \n",
    "        cv2.putText(frame, \"{}: {:.2f}\".format(text, fm), (40, 40), cv2.FONT_HERSHEY_DUPLEX, 0.9, (0, 255, 255), 2)\n",
    "        cv2.imshow(\"Image\", frame)\n",
    "           \n",
    "\n",
    "\n",
    "        if cv2.waitKey(1) & 0xFF == ord('q'):\n",
    "                break\n",
    "    else:\n",
    "        break\n",
    "\n",
    "cap.release()\n",
    "cv2.destroyAllWindows()\n",
    "\n",
    "\n"
   ]
  },
  {
   "cell_type": "code",
   "execution_count": null,
   "id": "a366e4c0-8145-423f-8cb6-c59c910aaf2a",
   "metadata": {},
   "outputs": [],
   "source": []
  },
  {
   "cell_type": "code",
   "execution_count": null,
   "id": "fa76f4c4-914a-4c22-8e0b-e43772e4c103",
   "metadata": {},
   "outputs": [],
   "source": []
  },
  {
   "cell_type": "code",
   "execution_count": null,
   "id": "94f7a1fc-bf63-4135-a483-debc39e2d058",
   "metadata": {},
   "outputs": [],
   "source": []
  }
 ],
 "metadata": {
  "kernelspec": {
   "display_name": "Python 3 (ipykernel)",
   "language": "python",
   "name": "python3"
  },
  "language_info": {
   "codemirror_mode": {
    "name": "ipython",
    "version": 3
   },
   "file_extension": ".py",
   "mimetype": "text/x-python",
   "name": "python",
   "nbconvert_exporter": "python",
   "pygments_lexer": "ipython3",
   "version": "3.10.8"
  }
 },
 "nbformat": 4,
 "nbformat_minor": 5
}
